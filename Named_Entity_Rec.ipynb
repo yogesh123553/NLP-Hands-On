{
  "nbformat": 4,
  "nbformat_minor": 0,
  "metadata": {
    "colab": {
      "name": "Named Entity Rec.ipynb",
      "provenance": [],
      "collapsed_sections": []
    },
    "kernelspec": {
      "name": "python3",
      "display_name": "Python 3"
    }
  },
  "cells": [
    {
      "cell_type": "code",
      "metadata": {
        "id": "EBjPRZypQYjv"
      },
      "source": [
        "import spacy"
      ],
      "execution_count": null,
      "outputs": []
    },
    {
      "cell_type": "code",
      "metadata": {
        "id": "ev2gyP10QmMC"
      },
      "source": [
        "import en_core_web_sm\n",
        "m=spacy.load('en_core_web_sm')"
      ],
      "execution_count": null,
      "outputs": []
    },
    {
      "cell_type": "code",
      "metadata": {
        "id": "76lXLk5cQsOH"
      },
      "source": [
        "example1=\"The series was mainly produced by David Heyman, and stars Daniel Radcliffe, Rupert Grint, and Emma Watson as the three leading characters: Harry Potter, Ron Weasley, and Hermione Granger. Four directors worked on the series: Chris Columbus, Alfonso Cuarón, Mike Newell, and David Yates.[5] Michael Goldenberg wrote the screenplay for Harry Potter and the Order of the Phoenix (2007), while the remaining films' screenplays were written by Steve Kloves. Production took place over ten years, with the main story arc following Harry's quest to overcome his arch-enemy Lord Voldemort.\""
      ],
      "execution_count": null,
      "outputs": []
    },
    {
      "cell_type": "code",
      "metadata": {
        "id": "HEd4LnNzQtJ3"
      },
      "source": [
        "doc=m(example1)"
      ],
      "execution_count": null,
      "outputs": []
    },
    {
      "cell_type": "code",
      "metadata": {
        "id": "LmvUuELsQ0uf",
        "outputId": "fd5d1e8b-d8c6-45f0-8ce8-635492d345ae",
        "colab": {
          "base_uri": "https://localhost:8080/",
          "height": 369
        }
      },
      "source": [
        "for ent in doc.ents:\n",
        "  print(ent.text,ent.label_)"
      ],
      "execution_count": null,
      "outputs": [
        {
          "output_type": "stream",
          "text": [
            "David Heyman PERSON\n",
            "Daniel Radcliffe PERSON\n",
            "Rupert Grint PERSON\n",
            "Emma Watson PERSON\n",
            "three CARDINAL\n",
            "Harry Potter PERSON\n",
            "Ron Weasley PERSON\n",
            "Hermione Granger PERSON\n",
            "Four CARDINAL\n",
            "Chris Columbus PERSON\n",
            "Alfonso Cuarón PERSON\n",
            "Mike Newell PERSON\n",
            "David Yates.[5 PERSON\n",
            "Michael Goldenberg PERSON\n",
            "Harry Potter PERSON\n",
            "2007 DATE\n",
            "Steve Kloves PERSON\n",
            "ten years DATE\n",
            "Harry PERSON\n",
            "Voldemort PRODUCT\n"
          ],
          "name": "stdout"
        }
      ]
    },
    {
      "cell_type": "code",
      "metadata": {
        "id": "h0CdzqGiRtig"
      },
      "source": [
        "#values - PERSON, PRODUCT, WORK_OF_ART, FAC, GPE, CARDINAL, LOC, TIME, DATE, QUANTITY"
      ],
      "execution_count": null,
      "outputs": []
    },
    {
      "cell_type": "code",
      "metadata": {
        "id": "JQlxNhprT5aS"
      },
      "source": [
        "#QUERYING\n",
        "locs=[('Omnicom','IN','New York'),('DDB Needham','IN','Atlanta'),('China','IN','Atlanta')]"
      ],
      "execution_count": null,
      "outputs": []
    },
    {
      "cell_type": "code",
      "metadata": {
        "id": "2JioeVxdUgOW"
      },
      "source": [
        "query=[e1 for (e1,rel,e2) in locs if e2=='Atlanta']"
      ],
      "execution_count": null,
      "outputs": []
    },
    {
      "cell_type": "code",
      "metadata": {
        "id": "gLzW8gcqU0Id",
        "outputId": "0d7177bb-0660-4e0c-a01b-02c4357d9d2e",
        "colab": {
          "base_uri": "https://localhost:8080/",
          "height": 34
        }
      },
      "source": [
        "query"
      ],
      "execution_count": null,
      "outputs": [
        {
          "output_type": "execute_result",
          "data": {
            "text/plain": [
              "['DDB Needham', 'China']"
            ]
          },
          "metadata": {
            "tags": []
          },
          "execution_count": 17
        }
      ]
    }
  ]
}