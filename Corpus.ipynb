{
  "nbformat": 4,
  "nbformat_minor": 0,
  "metadata": {
    "colab": {
      "name": "Corpus_FrequencyDistribution.ipynb",
      "provenance": [],
      "collapsed_sections": []
    },
    "kernelspec": {
      "name": "python3",
      "display_name": "Python 3"
    }
  },
  "cells": [
    {
      "cell_type": "code",
      "metadata": {
        "id": "xpZtVFlt6PrS",
        "outputId": "5f1afd20-b53a-4d59-ffe1-020943244f50",
        "colab": {
          "base_uri": "https://localhost:8080/",
          "height": 70
        }
      },
      "source": [
        "#importing nltk and brown corpus\n",
        "import nltk\n",
        "nltk.download('brown')"
      ],
      "execution_count": null,
      "outputs": [
        {
          "output_type": "stream",
          "text": [
            "[nltk_data] Downloading package brown to /root/nltk_data...\n",
            "[nltk_data]   Package brown is already up-to-date!\n"
          ],
          "name": "stdout"
        },
        {
          "output_type": "execute_result",
          "data": {
            "text/plain": [
              "True"
            ]
          },
          "metadata": {
            "tags": []
          },
          "execution_count": 13
        }
      ]
    },
    {
      "cell_type": "code",
      "metadata": {
        "id": "E4OB8p7X7CmT",
        "outputId": "a1a9e671-001f-4cea-8f2d-8b7122ef4080",
        "colab": {
          "base_uri": "https://localhost:8080/",
          "height": 284
        }
      },
      "source": [
        "from nltk.corpus import brown\n",
        "brown.categories()\n",
        "#All the material printed in the year 1960 and organized into these categories"
      ],
      "execution_count": null,
      "outputs": [
        {
          "output_type": "execute_result",
          "data": {
            "text/plain": [
              "['adventure',\n",
              " 'belles_lettres',\n",
              " 'editorial',\n",
              " 'fiction',\n",
              " 'government',\n",
              " 'hobbies',\n",
              " 'humor',\n",
              " 'learned',\n",
              " 'lore',\n",
              " 'mystery',\n",
              " 'news',\n",
              " 'religion',\n",
              " 'reviews',\n",
              " 'romance',\n",
              " 'science_fiction']"
            ]
          },
          "metadata": {
            "tags": []
          },
          "execution_count": 14
        }
      ]
    },
    {
      "cell_type": "code",
      "metadata": {
        "id": "MhpzmAp_7_v2",
        "outputId": "5a3c1427-6dc3-4908-d2ff-b2221f1349ee",
        "colab": {
          "base_uri": "https://localhost:8080/",
          "height": 35
        }
      },
      "source": [
        "brown.words(categories = 'science_fiction')[: 10]"
      ],
      "execution_count": null,
      "outputs": [
        {
          "output_type": "execute_result",
          "data": {
            "text/plain": [
              "['Now', 'that', 'he', 'knew', 'himself', 'to', 'be', 'self', 'he', 'was']"
            ]
          },
          "metadata": {
            "tags": []
          },
          "execution_count": 15
        }
      ]
    },
    {
      "cell_type": "code",
      "metadata": {
        "id": "vOL2hp1K7Sxj",
        "outputId": "d09ff6b6-321b-4808-920d-7230efb903a6",
        "colab": {
          "base_uri": "https://localhost:8080/",
          "height": 195
        }
      },
      "source": [
        "#obtaining data for 'adventure' category\n",
        "brown.words(categories = 'news')[: 10]"
      ],
      "execution_count": null,
      "outputs": [
        {
          "output_type": "execute_result",
          "data": {
            "text/plain": [
              "['The',\n",
              " 'Fulton',\n",
              " 'County',\n",
              " 'Grand',\n",
              " 'Jury',\n",
              " 'said',\n",
              " 'Friday',\n",
              " 'an',\n",
              " 'investigation',\n",
              " 'of']"
            ]
          },
          "metadata": {
            "tags": []
          },
          "execution_count": 16
        }
      ]
    },
    {
      "cell_type": "code",
      "metadata": {
        "id": "YhZBFSoc7nGe",
        "outputId": "ddc60d78-5fb2-41a7-90fd-b7cd124fb537",
        "colab": {
          "base_uri": "https://localhost:8080/",
          "height": 1000
        }
      },
      "source": [
        "#importing inaugural corps\n",
        "nltk.download('inaugural')\n",
        "from nltk.corpus import inaugural\n",
        "inaugural.fileids()"
      ],
      "execution_count": null,
      "outputs": [
        {
          "output_type": "stream",
          "text": [
            "[nltk_data] Downloading package inaugural to /root/nltk_data...\n",
            "[nltk_data]   Package inaugural is already up-to-date!\n"
          ],
          "name": "stdout"
        },
        {
          "output_type": "execute_result",
          "data": {
            "text/plain": [
              "['1789-Washington.txt',\n",
              " '1793-Washington.txt',\n",
              " '1797-Adams.txt',\n",
              " '1801-Jefferson.txt',\n",
              " '1805-Jefferson.txt',\n",
              " '1809-Madison.txt',\n",
              " '1813-Madison.txt',\n",
              " '1817-Monroe.txt',\n",
              " '1821-Monroe.txt',\n",
              " '1825-Adams.txt',\n",
              " '1829-Jackson.txt',\n",
              " '1833-Jackson.txt',\n",
              " '1837-VanBuren.txt',\n",
              " '1841-Harrison.txt',\n",
              " '1845-Polk.txt',\n",
              " '1849-Taylor.txt',\n",
              " '1853-Pierce.txt',\n",
              " '1857-Buchanan.txt',\n",
              " '1861-Lincoln.txt',\n",
              " '1865-Lincoln.txt',\n",
              " '1869-Grant.txt',\n",
              " '1873-Grant.txt',\n",
              " '1877-Hayes.txt',\n",
              " '1881-Garfield.txt',\n",
              " '1885-Cleveland.txt',\n",
              " '1889-Harrison.txt',\n",
              " '1893-Cleveland.txt',\n",
              " '1897-McKinley.txt',\n",
              " '1901-McKinley.txt',\n",
              " '1905-Roosevelt.txt',\n",
              " '1909-Taft.txt',\n",
              " '1913-Wilson.txt',\n",
              " '1917-Wilson.txt',\n",
              " '1921-Harding.txt',\n",
              " '1925-Coolidge.txt',\n",
              " '1929-Hoover.txt',\n",
              " '1933-Roosevelt.txt',\n",
              " '1937-Roosevelt.txt',\n",
              " '1941-Roosevelt.txt',\n",
              " '1945-Roosevelt.txt',\n",
              " '1949-Truman.txt',\n",
              " '1953-Eisenhower.txt',\n",
              " '1957-Eisenhower.txt',\n",
              " '1961-Kennedy.txt',\n",
              " '1965-Johnson.txt',\n",
              " '1969-Nixon.txt',\n",
              " '1973-Nixon.txt',\n",
              " '1977-Carter.txt',\n",
              " '1981-Reagan.txt',\n",
              " '1985-Reagan.txt',\n",
              " '1989-Bush.txt',\n",
              " '1993-Clinton.txt',\n",
              " '1997-Clinton.txt',\n",
              " '2001-Bush.txt',\n",
              " '2005-Bush.txt',\n",
              " '2009-Obama.txt',\n",
              " '2013-Obama.txt',\n",
              " '2017-Trump.txt']"
            ]
          },
          "metadata": {
            "tags": []
          },
          "execution_count": 19
        }
      ]
    },
    {
      "cell_type": "code",
      "metadata": {
        "id": "Qg_hVO6s9KfW",
        "outputId": "16c08fdb-246a-47a3-ca9a-20fae2ffe49e",
        "colab": {
          "base_uri": "https://localhost:8080/",
          "height": 906
        }
      },
      "source": [
        "inaugural.words(fileids='1861-Lincoln.txt')[:50]"
      ],
      "execution_count": null,
      "outputs": [
        {
          "output_type": "execute_result",
          "data": {
            "text/plain": [
              "['Fellow',\n",
              " '-',\n",
              " 'Citizens',\n",
              " 'of',\n",
              " 'the',\n",
              " 'United',\n",
              " 'States',\n",
              " ':',\n",
              " 'In',\n",
              " 'compliance',\n",
              " 'with',\n",
              " 'a',\n",
              " 'custom',\n",
              " 'as',\n",
              " 'old',\n",
              " 'as',\n",
              " 'the',\n",
              " 'Government',\n",
              " 'itself',\n",
              " ',',\n",
              " 'I',\n",
              " 'appear',\n",
              " 'before',\n",
              " 'you',\n",
              " 'to',\n",
              " 'address',\n",
              " 'you',\n",
              " 'briefly',\n",
              " 'and',\n",
              " 'to',\n",
              " 'take',\n",
              " 'in',\n",
              " 'your',\n",
              " 'presence',\n",
              " 'the',\n",
              " 'oath',\n",
              " 'prescribed',\n",
              " 'by',\n",
              " 'the',\n",
              " 'Constitution',\n",
              " 'of',\n",
              " 'the',\n",
              " 'United',\n",
              " 'States',\n",
              " 'to',\n",
              " 'be',\n",
              " 'taken',\n",
              " 'by',\n",
              " 'the',\n",
              " 'President']"
            ]
          },
          "metadata": {
            "tags": []
          },
          "execution_count": 20
        }
      ]
    },
    {
      "cell_type": "code",
      "metadata": {
        "id": "YKTNsy5S9c9u",
        "outputId": "14e67439-62c0-4f72-94cd-580df070f932",
        "colab": {
          "base_uri": "https://localhost:8080/",
          "height": 906
        }
      },
      "source": [
        "inaugural.words(fileids='1789-Washington.txt')[:50]"
      ],
      "execution_count": null,
      "outputs": [
        {
          "output_type": "execute_result",
          "data": {
            "text/plain": [
              "['Fellow',\n",
              " '-',\n",
              " 'Citizens',\n",
              " 'of',\n",
              " 'the',\n",
              " 'Senate',\n",
              " 'and',\n",
              " 'of',\n",
              " 'the',\n",
              " 'House',\n",
              " 'of',\n",
              " 'Representatives',\n",
              " ':',\n",
              " 'Among',\n",
              " 'the',\n",
              " 'vicissitudes',\n",
              " 'incident',\n",
              " 'to',\n",
              " 'life',\n",
              " 'no',\n",
              " 'event',\n",
              " 'could',\n",
              " 'have',\n",
              " 'filled',\n",
              " 'me',\n",
              " 'with',\n",
              " 'greater',\n",
              " 'anxieties',\n",
              " 'than',\n",
              " 'that',\n",
              " 'of',\n",
              " 'which',\n",
              " 'the',\n",
              " 'notification',\n",
              " 'was',\n",
              " 'transmitted',\n",
              " 'by',\n",
              " 'your',\n",
              " 'order',\n",
              " ',',\n",
              " 'and',\n",
              " 'received',\n",
              " 'on',\n",
              " 'the',\n",
              " '14th',\n",
              " 'day',\n",
              " 'of',\n",
              " 'the',\n",
              " 'present',\n",
              " 'month']"
            ]
          },
          "metadata": {
            "tags": []
          },
          "execution_count": 21
        }
      ]
    },
    {
      "cell_type": "code",
      "metadata": {
        "id": "mILIiY_s9oCO",
        "outputId": "4fb0985b-edcd-484b-c770-5350833eec68",
        "colab": {
          "base_uri": "https://localhost:8080/",
          "height": 159
        }
      },
      "source": [
        "nltk.download('webtext')\n",
        "from nltk.corpus import webtext\n",
        "webtext.fileids()"
      ],
      "execution_count": null,
      "outputs": [
        {
          "output_type": "stream",
          "text": [
            "[nltk_data] Downloading package webtext to /root/nltk_data...\n",
            "[nltk_data]   Package webtext is already up-to-date!\n"
          ],
          "name": "stdout"
        },
        {
          "output_type": "execute_result",
          "data": {
            "text/plain": [
              "['firefox.txt',\n",
              " 'grail.txt',\n",
              " 'overheard.txt',\n",
              " 'pirates.txt',\n",
              " 'singles.txt',\n",
              " 'wine.txt']"
            ]
          },
          "metadata": {
            "tags": []
          },
          "execution_count": 26
        }
      ]
    },
    {
      "cell_type": "code",
      "metadata": {
        "id": "LFXtfiz2-UQh",
        "outputId": "474b2976-c12b-4423-c31e-95ded7cf2362",
        "colab": {
          "base_uri": "https://localhost:8080/",
          "height": 1000
        }
      },
      "source": [
        "#Frequcency Distribution of diffrent words in a text\n",
        "#text -> bioshock video game\n",
        "text1='BioShock is set in 1960. The player guides the protagonist, Jack, after his airplane crashes in the ocean near the bathysphere terminus that leads to the underwater city of Rapture. Built by the business magnate Andrew Ryan, the city was intended to be an isolated utopia, but the discovery of ADAM, a genetic material which can be used to grant superhuman powers, initiated the citys turbulent decline. Jack tries to find a way to escape, fighting through hordes of ADAM-obsessed enemies'\n",
        "fd=nltk.FreqDist(text1.split())\n",
        "fd"
      ],
      "execution_count": null,
      "outputs": [
        {
          "output_type": "execute_result",
          "data": {
            "text/plain": [
              "FreqDist({'1960.': 1,\n",
              "          'ADAM,': 1,\n",
              "          'ADAM-obsessed': 1,\n",
              "          'Andrew': 1,\n",
              "          'BioShock': 1,\n",
              "          'Built': 1,\n",
              "          'Jack': 1,\n",
              "          'Jack,': 1,\n",
              "          'Rapture.': 1,\n",
              "          'Ryan,': 1,\n",
              "          'The': 1,\n",
              "          'a': 2,\n",
              "          'after': 1,\n",
              "          'airplane': 1,\n",
              "          'an': 1,\n",
              "          'bathysphere': 1,\n",
              "          'be': 2,\n",
              "          'business': 1,\n",
              "          'but': 1,\n",
              "          'by': 1,\n",
              "          'can': 1,\n",
              "          'city': 2,\n",
              "          'citys': 1,\n",
              "          'crashes': 1,\n",
              "          'decline.': 1,\n",
              "          'discovery': 1,\n",
              "          'enemies': 1,\n",
              "          'escape,': 1,\n",
              "          'fighting': 1,\n",
              "          'find': 1,\n",
              "          'genetic': 1,\n",
              "          'grant': 1,\n",
              "          'guides': 1,\n",
              "          'his': 1,\n",
              "          'hordes': 1,\n",
              "          'in': 2,\n",
              "          'initiated': 1,\n",
              "          'intended': 1,\n",
              "          'is': 1,\n",
              "          'isolated': 1,\n",
              "          'leads': 1,\n",
              "          'magnate': 1,\n",
              "          'material': 1,\n",
              "          'near': 1,\n",
              "          'ocean': 1,\n",
              "          'of': 3,\n",
              "          'player': 1,\n",
              "          'powers,': 1,\n",
              "          'protagonist,': 1,\n",
              "          'set': 1,\n",
              "          'superhuman': 1,\n",
              "          'terminus': 1,\n",
              "          'that': 1,\n",
              "          'the': 8,\n",
              "          'through': 1,\n",
              "          'to': 5,\n",
              "          'tries': 1,\n",
              "          'turbulent': 1,\n",
              "          'underwater': 1,\n",
              "          'used': 1,\n",
              "          'utopia,': 1,\n",
              "          'was': 1,\n",
              "          'way': 1,\n",
              "          'which': 1})"
            ]
          },
          "metadata": {
            "tags": []
          },
          "execution_count": 28
        }
      ]
    },
    {
      "cell_type": "code",
      "metadata": {
        "id": "ngrLjKLV_1NF",
        "outputId": "9587ce8a-6462-41eb-e5a6-44c7d884e8f6",
        "colab": {
          "base_uri": "https://localhost:8080/",
          "height": 35
        }
      },
      "source": [
        "#Conditional Freqency Distribution\n",
        "from nltk.probability import ConditionalFreqDist\n",
        "cd=ConditionalFreqDist((len(word),word) for word in text1.split())\n",
        "cd[4]"
      ],
      "execution_count": null,
      "outputs": [
        {
          "output_type": "execute_result",
          "data": {
            "text/plain": [
              "FreqDist({'Jack': 1, 'city': 2, 'find': 1, 'near': 1, 'that': 1, 'used': 1})"
            ]
          },
          "metadata": {
            "tags": []
          },
          "execution_count": 31
        }
      ]
    }
  ]
}