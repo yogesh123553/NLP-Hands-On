{
  "nbformat": 4,
  "nbformat_minor": 0,
  "metadata": {
    "colab": {
      "name": "Pipline_TweetsTokenizer.ipynb",
      "provenance": [],
      "collapsed_sections": []
    },
    "kernelspec": {
      "name": "python3",
      "display_name": "Python 3"
    }
  },
  "cells": [
    {
      "cell_type": "markdown",
      "metadata": {
        "id": "3_is5aexjsDB"
      },
      "source": [
        "**Task 1: Basic Data processing pipeline**"
      ]
    },
    {
      "cell_type": "code",
      "metadata": {
        "id": "9_UI3AwUjxhK",
        "outputId": "2d8c4052-5c02-4cb3-cedf-048029c5a099",
        "colab": {
          "base_uri": "https://localhost:8080/",
          "height": 1000
        }
      },
      "source": [
        "import nltk\n",
        "nltk.download('punkt')\n",
        "nltk.download('averaged_perceptron_tagger')\n",
        "\n",
        "text1 ='''Lorem Ipsum has been the industry's standard dummy text ever since the 1500s. When an unknown printer took a galley of type and scrambled it to make a type specimen book. It has survived not only five centuries, but also the leap into electronic typesetting. Remaining essentially unchanged.'''\n",
        "for text in text1:\n",
        "    sentences = nltk.sent_tokenize(text)\n",
        "    for sentence in sentences:\n",
        "        words = nltk.word_tokenize(sentence)\n",
        "        tagged = nltk.pos_tag(words)\n",
        "        print(tagged)"
      ],
      "execution_count": null,
      "outputs": [
        {
          "output_type": "stream",
          "text": [
            "[nltk_data] Downloading package punkt to /root/nltk_data...\n",
            "[nltk_data]   Package punkt is already up-to-date!\n",
            "[nltk_data] Downloading package averaged_perceptron_tagger to\n",
            "[nltk_data]     /root/nltk_data...\n",
            "[nltk_data]   Unzipping taggers/averaged_perceptron_tagger.zip.\n",
            "[('L', 'NN')]\n",
            "[('o', 'NN')]\n",
            "[('r', 'NN')]\n",
            "[('e', 'NN')]\n",
            "[('m', 'NN')]\n",
            "[('I', 'PRP')]\n",
            "[('p', 'NN')]\n",
            "[('s', 'NN')]\n",
            "[('u', 'NN')]\n",
            "[('m', 'NN')]\n",
            "[('h', 'NN')]\n",
            "[('a', 'DT')]\n",
            "[('s', 'NN')]\n",
            "[('b', 'NN')]\n",
            "[('e', 'NN')]\n",
            "[('e', 'NN')]\n",
            "[('n', 'NN')]\n",
            "[('t', 'NN')]\n",
            "[('h', 'NN')]\n",
            "[('e', 'NN')]\n",
            "[('i', 'NN')]\n",
            "[('n', 'NN')]\n",
            "[('d', 'NN')]\n",
            "[('u', 'NN')]\n",
            "[('s', 'NN')]\n",
            "[('t', 'NN')]\n",
            "[('r', 'NN')]\n",
            "[('y', 'NN')]\n",
            "[(\"'\", \"''\")]\n",
            "[('s', 'NN')]\n",
            "[('s', 'NN')]\n",
            "[('t', 'NN')]\n",
            "[('a', 'DT')]\n",
            "[('n', 'NN')]\n",
            "[('d', 'NN')]\n",
            "[('a', 'DT')]\n",
            "[('r', 'NN')]\n",
            "[('d', 'NN')]\n",
            "[('d', 'NN')]\n",
            "[('u', 'NN')]\n",
            "[('m', 'NN')]\n",
            "[('m', 'NN')]\n",
            "[('y', 'NN')]\n",
            "[('t', 'NN')]\n",
            "[('e', 'NN')]\n",
            "[('x', 'NN')]\n",
            "[('t', 'NN')]\n",
            "[('e', 'NN')]\n",
            "[('v', 'NN')]\n",
            "[('e', 'NN')]\n",
            "[('r', 'NN')]\n",
            "[('s', 'NN')]\n",
            "[('i', 'NN')]\n",
            "[('n', 'NN')]\n",
            "[('c', 'NNS')]\n",
            "[('e', 'NN')]\n",
            "[('t', 'NN')]\n",
            "[('h', 'NN')]\n",
            "[('e', 'NN')]\n",
            "[('1', 'CD')]\n",
            "[('5', 'CD')]\n",
            "[('0', 'CD')]\n",
            "[('0', 'CD')]\n",
            "[('s', 'NN')]\n",
            "[('.', '.')]\n",
            "[('W', 'NN')]\n",
            "[('h', 'NN')]\n",
            "[('e', 'NN')]\n",
            "[('n', 'NN')]\n",
            "[('a', 'DT')]\n",
            "[('n', 'NN')]\n",
            "[('u', 'NN')]\n",
            "[('n', 'NN')]\n",
            "[('k', 'NN')]\n",
            "[('n', 'NN')]\n",
            "[('o', 'NN')]\n",
            "[('w', 'NN')]\n",
            "[('n', 'NN')]\n",
            "[('p', 'NN')]\n",
            "[('r', 'NN')]\n",
            "[('i', 'NN')]\n",
            "[('n', 'NN')]\n",
            "[('t', 'NN')]\n",
            "[('e', 'NN')]\n",
            "[('r', 'NN')]\n",
            "[('t', 'NN')]\n",
            "[('o', 'NN')]\n",
            "[('o', 'NN')]\n",
            "[('k', 'NN')]\n",
            "[('a', 'DT')]\n",
            "[('g', 'NN')]\n",
            "[('a', 'DT')]\n",
            "[('l', 'NN')]\n",
            "[('l', 'NN')]\n",
            "[('e', 'NN')]\n",
            "[('y', 'NN')]\n",
            "[('o', 'NN')]\n",
            "[('f', 'NN')]\n",
            "[('t', 'NN')]\n",
            "[('y', 'NN')]\n",
            "[('p', 'NN')]\n",
            "[('e', 'NN')]\n",
            "[('a', 'DT')]\n",
            "[('n', 'NN')]\n",
            "[('d', 'NN')]\n",
            "[('s', 'NN')]\n",
            "[('c', 'NNS')]\n",
            "[('r', 'NN')]\n",
            "[('a', 'DT')]\n",
            "[('m', 'NN')]\n",
            "[('b', 'NN')]\n",
            "[('l', 'NN')]\n",
            "[('e', 'NN')]\n",
            "[('d', 'NN')]\n",
            "[('i', 'NN')]\n",
            "[('t', 'NN')]\n",
            "[('t', 'NN')]\n",
            "[('o', 'NN')]\n",
            "[('m', 'NN')]\n",
            "[('a', 'DT')]\n",
            "[('k', 'NN')]\n",
            "[('e', 'NN')]\n",
            "[('a', 'DT')]\n",
            "[('t', 'NN')]\n",
            "[('y', 'NN')]\n",
            "[('p', 'NN')]\n",
            "[('e', 'NN')]\n",
            "[('s', 'NN')]\n",
            "[('p', 'NN')]\n",
            "[('e', 'NN')]\n",
            "[('c', 'NNS')]\n",
            "[('i', 'NN')]\n",
            "[('m', 'NN')]\n",
            "[('e', 'NN')]\n",
            "[('n', 'NN')]\n",
            "[('b', 'NN')]\n",
            "[('o', 'NN')]\n",
            "[('o', 'NN')]\n",
            "[('k', 'NN')]\n",
            "[('.', '.')]\n",
            "[('I', 'PRP')]\n",
            "[('t', 'NN')]\n",
            "[('h', 'NN')]\n",
            "[('a', 'DT')]\n",
            "[('s', 'NN')]\n",
            "[('s', 'NN')]\n",
            "[('u', 'NN')]\n",
            "[('r', 'NN')]\n",
            "[('v', 'NN')]\n",
            "[('i', 'NN')]\n",
            "[('v', 'NN')]\n",
            "[('e', 'NN')]\n",
            "[('d', 'NN')]\n",
            "[('n', 'NN')]\n",
            "[('o', 'NN')]\n",
            "[('t', 'NN')]\n",
            "[('o', 'NN')]\n",
            "[('n', 'NN')]\n",
            "[('l', 'NN')]\n",
            "[('y', 'NN')]\n",
            "[('f', 'NN')]\n",
            "[('i', 'NN')]\n",
            "[('v', 'NN')]\n",
            "[('e', 'NN')]\n",
            "[('c', 'NNS')]\n",
            "[('e', 'NN')]\n",
            "[('n', 'NN')]\n",
            "[('t', 'NN')]\n",
            "[('u', 'NN')]\n",
            "[('r', 'NN')]\n",
            "[('i', 'NN')]\n",
            "[('e', 'NN')]\n",
            "[('s', 'NN')]\n",
            "[(',', ',')]\n",
            "[('b', 'NN')]\n",
            "[('u', 'NN')]\n",
            "[('t', 'NN')]\n",
            "[('a', 'DT')]\n",
            "[('l', 'NN')]\n",
            "[('s', 'NN')]\n",
            "[('o', 'NN')]\n",
            "[('t', 'NN')]\n",
            "[('h', 'NN')]\n",
            "[('e', 'NN')]\n",
            "[('l', 'NN')]\n",
            "[('e', 'NN')]\n",
            "[('a', 'DT')]\n",
            "[('p', 'NN')]\n",
            "[('i', 'NN')]\n",
            "[('n', 'NN')]\n",
            "[('t', 'NN')]\n",
            "[('o', 'NN')]\n",
            "[('e', 'NN')]\n",
            "[('l', 'NN')]\n",
            "[('e', 'NN')]\n",
            "[('c', 'NNS')]\n",
            "[('t', 'NN')]\n",
            "[('r', 'NN')]\n",
            "[('o', 'NN')]\n",
            "[('n', 'NN')]\n",
            "[('i', 'NN')]\n",
            "[('c', 'NNS')]\n",
            "[('t', 'NN')]\n",
            "[('y', 'NN')]\n",
            "[('p', 'NN')]\n",
            "[('e', 'NN')]\n",
            "[('s', 'NN')]\n",
            "[('e', 'NN')]\n",
            "[('t', 'NN')]\n",
            "[('t', 'NN')]\n",
            "[('i', 'NN')]\n",
            "[('n', 'NN')]\n",
            "[('g', 'NN')]\n",
            "[('.', '.')]\n",
            "[('R', 'NN')]\n",
            "[('e', 'NN')]\n",
            "[('m', 'NN')]\n",
            "[('a', 'DT')]\n",
            "[('i', 'NN')]\n",
            "[('n', 'NN')]\n",
            "[('i', 'NN')]\n",
            "[('n', 'NN')]\n",
            "[('g', 'NN')]\n",
            "[('e', 'NN')]\n",
            "[('s', 'NN')]\n",
            "[('s', 'NN')]\n",
            "[('e', 'NN')]\n",
            "[('n', 'NN')]\n",
            "[('t', 'NN')]\n",
            "[('i', 'NN')]\n",
            "[('a', 'DT')]\n",
            "[('l', 'NN')]\n",
            "[('l', 'NN')]\n",
            "[('y', 'NN')]\n",
            "[('u', 'NN')]\n",
            "[('n', 'NN')]\n",
            "[('c', 'NNS')]\n",
            "[('h', 'NN')]\n",
            "[('a', 'DT')]\n",
            "[('n', 'NN')]\n",
            "[('g', 'NN')]\n",
            "[('e', 'NN')]\n",
            "[('d', 'NN')]\n",
            "[('.', '.')]\n"
          ],
          "name": "stdout"
        }
      ]
    },
    {
      "cell_type": "markdown",
      "metadata": {
        "id": "hMZadCuQkxZa"
      },
      "source": [
        "**Task 2: Tweet Tokenizer**"
      ]
    },
    {
      "cell_type": "code",
      "metadata": {
        "id": "uCcXM4-ykjmj",
        "outputId": "b1d32e84-59a7-4da9-a625-f9d828268578",
        "colab": {
          "base_uri": "https://localhost:8080/",
          "height": 34
        }
      },
      "source": [
        "from nltk.tokenize import TweetTokenizer\n",
        "text = 'The party was kindaaa fun :D #superfun'\n",
        "twtkn = TweetTokenizer()\n",
        "twtkn.tokenize(text)"
      ],
      "execution_count": null,
      "outputs": [
        {
          "output_type": "execute_result",
          "data": {
            "text/plain": [
              "['The', 'party', 'was', 'kindaaa', 'fun', ':D', '#superfun']"
            ]
          },
          "metadata": {
            "tags": []
          },
          "execution_count": 4
        }
      ]
    },
    {
      "cell_type": "markdown",
      "metadata": {
        "id": "FFVaukcDlJgl"
      },
      "source": [
        "**Task 3: Scrapping Data from the Web**"
      ]
    },
    {
      "cell_type": "code",
      "metadata": {
        "id": "FKr149JClQBM",
        "outputId": "9a368f48-727a-4a32-89fe-e12f622b6ef7",
        "colab": {
          "base_uri": "https://localhost:8080/",
          "height": 34
        }
      },
      "source": [
        "from urllib import request\n",
        "url = 'http://www.gutenberg.org/files/2554/2554-0.txt'\n",
        "response = request.urlopen(url)\n",
        "raw = response.read().decode('utf8')\n",
        "type(raw)\n",
        "len(raw)\n",
        "raw[:75]\n",
        "from nltk.tokenize import word_tokenize\n",
        "tokens = word_tokenize(raw)\n",
        "type(tokens)\n",
        "\n",
        "#html->ascii->text->vocab"
      ],
      "execution_count": null,
      "outputs": [
        {
          "output_type": "execute_result",
          "data": {
            "text/plain": [
              "list"
            ]
          },
          "metadata": {
            "tags": []
          },
          "execution_count": 5
        }
      ]
    },
    {
      "cell_type": "markdown",
      "metadata": {
        "id": "-yeHJtSwlkdn"
      },
      "source": [
        "**Task 4: Handling Tweets Data**"
      ]
    },
    {
      "cell_type": "code",
      "metadata": {
        "id": "eiR748VWlpR7"
      },
      "source": [
        "f=open('tweets1.txt', 'r')\n",
        "text = f.read()\n",
        "text1 = text.split()\n",
        "text2 = nltk.Text(text1)\n",
        "text2.concordance('good')"
      ],
      "execution_count": null,
      "outputs": []
    },
    {
      "cell_type": "code",
      "metadata": {
        "id": "-eFsSZ46l8Ls"
      },
      "source": [
        ""
      ],
      "execution_count": null,
      "outputs": []
    },
    {
      "cell_type": "code",
      "metadata": {
        "id": "MH6T4tsjl8rO"
      },
      "source": [
        ""
      ],
      "execution_count": null,
      "outputs": []
    }
  ]
}